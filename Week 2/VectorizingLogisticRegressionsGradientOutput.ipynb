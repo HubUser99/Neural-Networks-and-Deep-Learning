{
 "cells": [
  {
   "cell_type": "code",
   "execution_count": 70,
   "metadata": {},
   "outputs": [],
   "source": [
    "import numpy as np"
   ]
  },
  {
   "cell_type": "code",
   "execution_count": 71,
   "metadata": {},
   "outputs": [
    {
     "output_type": "stream",
     "name": "stdout",
     "text": "w:\n[[0.21228316]\n [0.06644906]\n [0.63232486]\n [0.19924107]\n [0.92800724]]\nX:\n[[0.68314092 0.57993587 0.56146906]\n [0.9650968  0.00791482 0.682249  ]\n [0.87119158 0.0922937  0.25213637]\n [0.58890927 0.1183673  0.41130379]\n [0.88285257 0.89159301 0.21087904]]\nY:\n[[0.14111329 0.97288034 0.79002918]\n [0.49385215 0.43457377 0.91527805]\n [0.93302709 0.40465276 0.51514005]\n [0.9819966  0.32385096 0.72449598]\n [0.99068999 0.18458478 0.35852387]]\nb:\n0.7339995280392968\nalpha:\n0.8770759135024211\n"
    }
   ],
   "source": [
    "m = 5\n",
    "n = 3\n",
    "\n",
    "w = np.random.rand(m, 1)\n",
    "X = np.random.rand(m, n)\n",
    "Y = np.random.rand(m, n)\n",
    "b = np.random.uniform()\n",
    "alpha = np.random.uniform()\n",
    "\n",
    "print('w:')\n",
    "print(w)\n",
    "print('X:')\n",
    "print(X)\n",
    "print('Y:')\n",
    "print(Y)\n",
    "print('b:')\n",
    "print(b)\n",
    "print('alpha:')\n",
    "print(alpha)"
   ]
  },
  {
   "cell_type": "code",
   "execution_count": 72,
   "metadata": {},
   "outputs": [
    {
     "output_type": "stream",
     "name": "stdout",
     "text": "[[2.4306532  1.76698408 1.33560274]]\n"
    }
   ],
   "source": [
    "Z = np.dot(np.transpose(w), X) + b\n",
    "\n",
    "print(Z)"
   ]
  },
  {
   "cell_type": "code",
   "execution_count": 73,
   "metadata": {},
   "outputs": [],
   "source": [
    "def sigmoid(X):\n",
    "   return 1/(1+np.exp(-X))"
   ]
  },
  {
   "cell_type": "code",
   "execution_count": 74,
   "metadata": {},
   "outputs": [
    {
     "output_type": "stream",
     "name": "stdout",
     "text": "[[0.9191351  0.85408221 0.79176588]]\n"
    }
   ],
   "source": [
    "A = sigmoid(Z)\n",
    "\n",
    "print(A)"
   ]
  },
  {
   "cell_type": "code",
   "execution_count": 75,
   "metadata": {},
   "outputs": [
    {
     "output_type": "stream",
     "name": "stdout",
     "text": "[[ 0.7780218  -0.11879813  0.00173671]\n [ 0.42528295  0.41950844 -0.12351217]\n [-0.01389199  0.44942945  0.27662583]\n [-0.0628615   0.53023125  0.0672699 ]\n [-0.07155489  0.66949743  0.43324201]]\n"
    }
   ],
   "source": [
    "dZ = A - Y\n",
    "\n",
    "print(dZ)"
   ]
  },
  {
   "cell_type": "code",
   "execution_count": 76,
   "metadata": {},
   "outputs": [
    {
     "output_type": "stream",
     "name": "stdout",
     "text": "[0.1659286  0.12711716 0.0210973 ]\n"
    }
   ],
   "source": [
    "dw = 1/m * sum(X * dZ)\n",
    "\n",
    "print(dw)"
   ]
  },
  {
   "cell_type": "code",
   "execution_count": 77,
   "metadata": {},
   "outputs": [
    {
     "output_type": "stream",
     "name": "stdout",
     "text": "0.7320454192537316\n"
    }
   ],
   "source": [
    "db = 1/m * np.sum(dZ)\n",
    "\n",
    "print(db)"
   ]
  },
  {
   "cell_type": "code",
   "execution_count": 78,
   "metadata": {},
   "outputs": [
    {
     "output_type": "stream",
     "name": "stdout",
     "text": "[[ 0.06675118  0.10079176  0.19377922]\n [-0.07908292 -0.04504234  0.04794513]\n [ 0.48679288  0.52083346  0.61382093]\n [ 0.05370909  0.08774967  0.18073714]\n [ 0.78247526  0.81651584  0.9095033 ]]\n0.09194012322206735\n"
    }
   ],
   "source": [
    "w = w - alpha * dw\n",
    "b = b - alpha * db\n",
    "\n",
    "print(w)\n",
    "print(b)"
   ]
  },
  {
   "cell_type": "code",
   "execution_count": null,
   "metadata": {},
   "outputs": [],
   "source": []
  }
 ],
 "metadata": {
  "language_info": {
   "codemirror_mode": {
    "name": "ipython",
    "version": 3
   },
   "file_extension": ".py",
   "mimetype": "text/x-python",
   "name": "python",
   "nbconvert_exporter": "python",
   "pygments_lexer": "ipython3",
   "version": "3.7.7-final"
  },
  "orig_nbformat": 2,
  "kernelspec": {
   "name": "python37764bitca47df3bfed74f36b754f8e4aaf31943",
   "display_name": "Python 3.7.7 64-bit"
  }
 },
 "nbformat": 4,
 "nbformat_minor": 2
}